{
  "nbformat": 4,
  "nbformat_minor": 0,
  "metadata": {
    "colab": {
      "name": "Kashish Chawla_500075500_R103219008_OR(Lab 8).ipynb",
      "provenance": [],
      "collapsed_sections": [],
      "authorship_tag": "ABX9TyNQ2Gy+YY+iyGagzrD+2i6j",
      "include_colab_link": true
    },
    "kernelspec": {
      "name": "python3",
      "display_name": "Python 3"
    },
    "language_info": {
      "name": "python"
    }
  },
  "cells": [
    {
      "cell_type": "markdown",
      "metadata": {
        "id": "view-in-github",
        "colab_type": "text"
      },
      "source": [
        "<a href=\"https://colab.research.google.com/github/Kashish-200/Operation-Research-lab/blob/main/Kashish_Chawla_500075500_R103219008_OR(Lab_8).ipynb\" target=\"_parent\"><img src=\"https://colab.research.google.com/assets/colab-badge.svg\" alt=\"Open In Colab\"/></a>"
      ]
    },
    {
      "cell_type": "markdown",
      "source": [
        "**Experiment – 8**\t\n",
        "**Special cases in LPP**"
      ],
      "metadata": {
        "id": "fGmhOSvZItci"
      }
    },
    {
      "cell_type": "code",
      "execution_count": 6,
      "metadata": {
        "id": "7M9N6P0L3rlr"
      },
      "outputs": [],
      "source": [
        "from scipy.optimize import linprog"
      ]
    },
    {
      "cell_type": "markdown",
      "source": [
        "![image.png](data:image/png;base64,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)"
      ],
      "metadata": {
        "id": "dDsQZoOU86su"
      }
    },
    {
      "cell_type": "code",
      "source": [
        "obj1 = [1, 1]\n",
        "lhs_ineq1 = [[ 1,  1],[3,  -1]]\n",
        "rhs_ineq1 = [1,-3]\n",
        "bnd1 = [(0, float(\"inf\")), (0, float(\"inf\"))]\n",
        "opt1 = linprog(c=obj1, A_ub=lhs_ineq1, b_ub=rhs_ineq1, bounds=bnd1, method=\"revised simplex\")\n",
        "opt1"
      ],
      "metadata": {
        "colab": {
          "base_uri": "https://localhost:8080/"
        },
        "id": "5zXNxAL28faZ",
        "outputId": "06d5196d-5a41-4bec-a4da-996608991f8c"
      },
      "execution_count": 7,
      "outputs": [
        {
          "output_type": "execute_result",
          "data": {
            "text/plain": [
              "     con: array([], dtype=float64)\n",
              "     fun: 1.0\n",
              " message: 'The problem appears infeasible, as the phase one auxiliary problem terminated successfully with a residual of 2.0e+00, greater than the tolerance 1e-12 required for the solution to be considered feasible. Consider increasing the tolerance to be greater than 2.0e+00. If this tolerance is unnaceptably large, the problem is likely infeasible.'\n",
              "     nit: 1\n",
              "   slack: array([ 0., -2.])\n",
              "  status: 2\n",
              " success: False\n",
              "       x: array([0., 1.])"
            ]
          },
          "metadata": {},
          "execution_count": 7
        }
      ]
    },
    {
      "cell_type": "markdown",
      "source": [
        ""
      ],
      "metadata": {
        "id": "ztQHOccJ-WWF"
      }
    },
    {
      "cell_type": "code",
      "source": [
        "obj2 = [-2, -4]\n",
        "lhs_ineq2 = [[ 1,2],[1,1]]\n",
        "rhs_ineq2 = [5,4]\n",
        "bnd2 = [(0, float(\"inf\")), (0, float(\"inf\"))]\n",
        "opt2 = linprog(c=obj2, A_ub=lhs_ineq2, b_ub=rhs_ineq2, bounds=bnd2, method=\"revised simplex\")\n",
        "opt2"
      ],
      "metadata": {
        "colab": {
          "base_uri": "https://localhost:8080/"
        },
        "id": "wwrPq4BL-Wpp",
        "outputId": "b48e011c-9de8-4726-8e3a-49f8a311be4f"
      },
      "execution_count": 8,
      "outputs": [
        {
          "output_type": "execute_result",
          "data": {
            "text/plain": [
              "     con: array([], dtype=float64)\n",
              "     fun: -10.0\n",
              " message: 'Optimization terminated successfully.'\n",
              "     nit: 1\n",
              "   slack: array([0. , 1.5])\n",
              "  status: 0\n",
              " success: True\n",
              "       x: array([0. , 2.5])"
            ]
          },
          "metadata": {},
          "execution_count": 8
        }
      ]
    }
  ]
}