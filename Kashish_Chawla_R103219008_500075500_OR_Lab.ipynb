{
  "nbformat": 4,
  "nbformat_minor": 0,
  "metadata": {
    "colab": {
      "name": "Kashish Chawla_R103219008_500075500_OR Lab.ipynb",
      "provenance": [],
      "authorship_tag": "ABX9TyNanSJWf+4IEkHBc/aj8u6f",
      "include_colab_link": true
    },
    "kernelspec": {
      "name": "python3",
      "display_name": "Python 3"
    },
    "language_info": {
      "name": "python"
    }
  },
  "cells": [
    {
      "cell_type": "markdown",
      "metadata": {
        "id": "view-in-github",
        "colab_type": "text"
      },
      "source": [
        "<a href=\"https://colab.research.google.com/github/Kashish-200/Operation-Research-lab/blob/main/Kashish_Chawla_R103219008_500075500_OR_Lab.ipynb\" target=\"_parent\"><img src=\"https://colab.research.google.com/assets/colab-badge.svg\" alt=\"Open In Colab\"/></a>"
      ]
    },
    {
      "cell_type": "markdown",
      "metadata": {
        "id": "6MoBzk4yaxVM"
      },
      "source": [
        "**EXPERIMENT – 5**\n",
        "\n",
        "**TITLE:   LPP using Array**\n",
        "\n",
        "**Solve following problems by using array**\n",
        "\n",
        "1)\t maximize  Z = 3X1 + 2X2 + 3X3\n",
        "\n",
        "Subject to,\n",
        "2X1 + X2 + X3 = 2\n",
        "\n",
        "X1 + 3X2 + X3 =6\n",
        "\n",
        "3X1 + 4X2 + 2X3 =8\n",
        "\n",
        "X1 ,X2 , X3 ≥0\n",
        "\n",
        "\n"
      ]
    },
    {
      "cell_type": "code",
      "metadata": {
        "id": "UPvk8ehmoK3g"
      },
      "source": [
        "from scipy.optimize import linprog"
      ],
      "execution_count": null,
      "outputs": []
    },
    {
      "cell_type": "code",
      "metadata": {
        "colab": {
          "base_uri": "https://localhost:8080/"
        },
        "id": "LgXDJCvQbJZn",
        "outputId": "9c6794fb-3c55-490a-cb02-ce2b5a829643"
      },
      "source": [
        "c = [-3, -2, -3]\n",
        "A = [[2, 1, 1], [1, 3, 1], [3, 4, 2]]\n",
        "b = [2, 6, 8]\n",
        "x1_bound = (0, None)\n",
        "x2_bound = (0, None)\n",
        "x3_bound = (0, None)\n",
        "opt = linprog(c, A_eq = A, b_eq = b, bounds=[x1_bound, x2_bound, x3_bound], method = \"simplex\")\n",
        "print(opt)\n"
      ],
      "execution_count": 15,
      "outputs": [
        {
          "output_type": "stream",
          "name": "stdout",
          "text": [
            "     con: array([0., 0., 0.])\n",
            "     fun: -4.0\n",
            " message: 'Optimization terminated successfully.'\n",
            "     nit: 3\n",
            "   slack: array([], dtype=float64)\n",
            "  status: 0\n",
            " success: True\n",
            "       x: array([0., 2., 0.])\n"
          ]
        },
        {
          "output_type": "stream",
          "name": "stderr",
          "text": [
            "/usr/local/lib/python3.7/dist-packages/ipykernel_launcher.py:7: OptimizeWarning: A_eq does not appear to be of full row rank. To improve performance, check the problem formulation for redundant equality constraints.\n",
            "  import sys\n"
          ]
        }
      ]
    },
    {
      "cell_type": "markdown",
      "metadata": {
        "id": "OMUE2K9Yau2p"
      },
      "source": [
        "\n",
        "2)\tminimize  Z = 3X1 - 4X2 + 3X3 \n",
        "\n",
        "Subject to,\n",
        "\n",
        " 5X1 + 6X2 + 2X3 ≤ 5\n",
        "\n",
        "-X1 + 3X2 +5 X3 ≥ 8\n",
        "\n",
        "2X1 + 5X2 - 4X3 ≤4\n",
        "\n",
        "X1 ,X2 , X3 ≥0\n",
        "\n",
        "\n",
        "\n",
        "\n"
      ]
    },
    {
      "cell_type": "code",
      "metadata": {
        "colab": {
          "base_uri": "https://localhost:8080/"
        },
        "id": "3g3w2AZubZ71",
        "outputId": "30430da8-587c-42c6-9bd1-56762855692e"
      },
      "source": [
        "c = [3, -4, 3]\n",
        "A = [[5, 6, 2], [1, -3, -5], [2, 5, -4]]\n",
        "b = [5, -8, 4]\n",
        "x1_bound = (0, None)\n",
        "x2_bound = (0, None)\n",
        "x3_bound = (0, None)\n",
        "opt = linprog(c, A, b, bounds=[x1_bound, x2_bound, x3_bound], method = \"simplex\")\n",
        "print(opt)\n"
      ],
      "execution_count": 16,
      "outputs": [
        {
          "output_type": "stream",
          "name": "stdout",
          "text": [
            "     con: array([], dtype=float64)\n",
            "     fun: 2.624999999999999\n",
            " message: 'Optimization terminated successfully.'\n",
            "     nit: 3\n",
            "   slack: array([ 0.0000000e+00, -8.8817842e-16,  7.6250000e+00])\n",
            "  status: 0\n",
            " success: True\n",
            "       x: array([0.   , 0.375, 1.375])\n"
          ]
        }
      ]
    },
    {
      "cell_type": "markdown",
      "metadata": {
        "id": "_0oYnR4gbauv"
      },
      "source": [
        "3)\tmaximize  Z = 2X1 + 4X2 + 4X3  -3X4\n",
        "\n",
        "Subject to,\n",
        "\n",
        " X1 + X2 + X3 = 4\n",
        "\n",
        "X1 + 4X2 + X4 =8\n",
        "\n",
        "3X1 + 4X2 + 2X3 =8\n",
        "\n",
        "X1 ,X2 , X3 , X4 ≥0"
      ]
    },
    {
      "cell_type": "code",
      "metadata": {
        "colab": {
          "base_uri": "https://localhost:8080/"
        },
        "id": "7KNKgZcxbf9h",
        "outputId": "a0328768-7862-4c7a-9210-a4eea4f07515"
      },
      "source": [
        "c = [-2, -4, -4, 3]\n",
        "A = [[1, 1, 1, 0], [1, 4, 0,1], [3 , 4, 2, 0]]\n",
        "b = [4, 8, 8]\n",
        "x1_bound = (0, None)\n",
        "x2_bound = (0, None)\n",
        "x3_bound = (0, None)\n",
        "x4_bound = (0, None)\n",
        "opt = linprog(c, A_eq = A, b_eq= b, bounds=(x1_bound, x2_bound, x3_bound, x4_bound), method = \"simplex\")\n",
        "print(opt)"
      ],
      "execution_count": 17,
      "outputs": [
        {
          "output_type": "stream",
          "name": "stdout",
          "text": [
            "     con: array([0., 0., 0.])\n",
            "     fun: 8.0\n",
            " message: 'Optimization terminated successfully.'\n",
            "     nit: 3\n",
            "   slack: array([], dtype=float64)\n",
            "  status: 0\n",
            " success: True\n",
            "       x: array([0., 0., 4., 8.])\n"
          ]
        }
      ]
    }
  ]
}