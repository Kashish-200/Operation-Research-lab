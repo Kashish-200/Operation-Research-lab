{
  "nbformat": 4,
  "nbformat_minor": 0,
  "metadata": {
    "colab": {
      "name": "Kashish Chawla_500075500_R103219008.ipynb",
      "provenance": [],
      "authorship_tag": "ABX9TyO8MsGYokmjL5Aj0D68Q6dj",
      "include_colab_link": true
    },
    "kernelspec": {
      "name": "python3",
      "display_name": "Python 3"
    },
    "language_info": {
      "name": "python"
    }
  },
  "cells": [
    {
      "cell_type": "markdown",
      "metadata": {
        "id": "view-in-github",
        "colab_type": "text"
      },
      "source": [
        "<a href=\"https://colab.research.google.com/github/Kashish-200/Operation-Research-lab/blob/main/Kashish_Chawla_500075500_R103219008.ipynb\" target=\"_parent\"><img src=\"https://colab.research.google.com/assets/colab-badge.svg\" alt=\"Open In Colab\"/></a>"
      ]
    },
    {
      "cell_type": "markdown",
      "metadata": {
        "id": "FK6-hmG_eta9"
      },
      "source": [
        "**Operation Research Lab(Exp 4)**\n",
        "\n"
      ]
    },
    {
      "cell_type": "markdown",
      "metadata": {
        "id": "wxcqGEYsfpsq"
      },
      "source": [
        "**Integer Programming Problem**\n",
        "\n",
        "Q1. Maximize:-\n",
        "\n",
        "   z= 7x1 + 10x2\n",
        "\n",
        "   Subject To:-\n",
        "\n",
        "   -x1+ 3x2 <= 6\n",
        "\n",
        "   7x1+x2 <=35\n",
        "\n",
        "   x1,x2>=0 and integers"
      ]
    },
    {
      "cell_type": "code",
      "metadata": {
        "colab": {
          "base_uri": "https://localhost:8080/"
        },
        "id": "Lt98i4aGf7w4",
        "outputId": "033c6d0b-9f69-477e-83d3-23d233ac2d40"
      },
      "source": [
        "import cvxpy as cy\n",
        "x1 = cy.Variable()\n",
        "x2 = cy.Variable()\n",
        "constraints = [-x1 + 3*x2 <= 6,\n",
        "               7*x1 + x2 <= 35,\n",
        "               x1>=0,\n",
        "               x2>=0]\n",
        "obj = cy.Maximize((7*x1 + 10*x2))\n",
        "prob = cy.Problem(obj, constraints)\n",
        "prob.solve()"
      ],
      "execution_count": 1,
      "outputs": [
        {
          "output_type": "execute_result",
          "data": {
            "text/plain": [
              "66.4999999374403"
            ]
          },
          "metadata": {},
          "execution_count": 1
        }
      ]
    },
    {
      "cell_type": "markdown",
      "metadata": {
        "id": "RspudZ5Qi8Zb"
      },
      "source": [
        "Q2. Maximize:-\n",
        "\n",
        "  z=5x1+8x2\n",
        "\n",
        "  Subject To:-\n",
        "\n",
        "  x1+x2 <=6\n",
        "\n",
        "  5x1+9x2 <=45\n",
        "\n",
        "  x1,x2 >=0 and integers"
      ]
    },
    {
      "cell_type": "code",
      "metadata": {
        "colab": {
          "base_uri": "https://localhost:8080/"
        },
        "id": "KUeSiXUmi-lL",
        "outputId": "667ea4a0-3c03-4919-d0cb-daa5b8549a05"
      },
      "source": [
        "x1 = cy.Variable()\n",
        "x2 = cy.Variable()\n",
        "constraints = [x1 + x2 <= 6,\n",
        "               5*x1 + 9*x2 <= 45,\n",
        "               x1>=0,\n",
        "               x2>=0]\n",
        "obj = cy.Maximize((5*x1 + 8*x2))\n",
        "prob = cy.Problem(obj, constraints)\n",
        "prob.solve()"
      ],
      "execution_count": 2,
      "outputs": [
        {
          "output_type": "execute_result",
          "data": {
            "text/plain": [
              "41.24999999702171"
            ]
          },
          "metadata": {},
          "execution_count": 2
        }
      ]
    },
    {
      "cell_type": "markdown",
      "metadata": {
        "id": "JmP5kuc0jXtJ"
      },
      "source": [
        "Q3.\tA machine is used to produce two interchangeable products. The daily capacity of the\n",
        "machine can produce at most 20 units of product 1 and 10 units of product 2. Alternatively,\n",
        "       the machine can be adjusted to produce at most 12 units of product 1 and 25\n",
        "       units of product 2 daily. Market analysis shows that the maximum daily demand for the\n",
        "       two products combined is 35 units. Given that the unit profits for the two respective\n",
        "       products are $10 and $12, which of the two machine settings should be selected? \n",
        "       Formulate the problem as an IPP and find the optimum.\n"
      ]
    },
    {
      "cell_type": "code",
      "metadata": {
        "colab": {
          "base_uri": "https://localhost:8080/"
        },
        "id": "L4oKeuccjkW4",
        "outputId": "9cfe8f4b-2fcb-4ea7-dbf0-3637643f6d2b"
      },
      "source": [
        "x1 = cy.Variable(integer=True)\n",
        "x2 = cy.Variable(integer=True)\n",
        "\n",
        "constraints1 = [x1 + x2 <= 35,\n",
        "               25*x1-12*x2 <= 0,\n",
        "               12*x1-10*x2 <= 0,\n",
        "               x1>=0,\n",
        "               x2>=0]\n",
        "\n",
        "obj1 = cy.Maximize((10*x1)+(12*x2))\n",
        "\n",
        "prob1 = cy.Problem(obj1, constraints1)\n",
        "prob1.solve()\n",
        "\n",
        "print(\"Value of x1:\", x1.value)\n",
        "print(\"Value of x2:\", x2.value)\n",
        "print(\"Value of obj:\",prob1.value)"
      ],
      "execution_count": 3,
      "outputs": [
        {
          "output_type": "stream",
          "name": "stdout",
          "text": [
            "Value of x1: 0.0\n",
            "Value of x2: 35.0\n",
            "Value of obj: 420.0\n"
          ]
        }
      ]
    }
  ]
}