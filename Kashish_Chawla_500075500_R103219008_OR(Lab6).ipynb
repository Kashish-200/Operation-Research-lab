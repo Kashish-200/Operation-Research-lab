{
  "nbformat": 4,
  "nbformat_minor": 0,
  "metadata": {
    "colab": {
      "name": "Kashish Chawla_500075500_R103219008_OR(Lab6).ipynb",
      "provenance": [],
      "authorship_tag": "ABX9TyNtjHSe80BTy5CrW9hNe0TJ",
      "include_colab_link": true
    },
    "kernelspec": {
      "name": "python3",
      "display_name": "Python 3"
    },
    "language_info": {
      "name": "python"
    }
  },
  "cells": [
    {
      "cell_type": "markdown",
      "metadata": {
        "id": "view-in-github",
        "colab_type": "text"
      },
      "source": [
        "<a href=\"https://colab.research.google.com/github/Kashish-200/Operation-Research-lab/blob/main/Kashish_Chawla_500075500_R103219008_OR(Lab6).ipynb\" target=\"_parent\"><img src=\"https://colab.research.google.com/assets/colab-badge.svg\" alt=\"Open In Colab\"/></a>"
      ]
    },
    {
      "cell_type": "markdown",
      "metadata": {
        "id": "TZa8QNcZsEmp"
      },
      "source": [
        "**EXPERIMENT – 6**\n",
        "\n",
        "**TITLE: Data Isolation**"
      ]
    },
    {
      "cell_type": "markdown",
      "metadata": {
        "id": "jfxAt2ctrzpu"
      },
      "source": [
        "**Solve following problems create separate data file.**\n",
        "\n",
        "Q1)\tConsider a Belgian company Volsay, which specializes in producing ammoniac gas (NH3)\n",
        "and ammonium chloride (NH4Cl). Volsay has at its disposal 50 units of nitrogen (N), 180 units\n",
        "of hydrogen (H), and 40 units of chlorine (Cl). The company makes a profit of 40 Euros for\n",
        "each sale of an ammoniac gas unit and 50 Euros for each sale of an ammonium chloride\n",
        "unit. Volsay would like a production plan maximizing its profits given its available stocks.\n"
      ]
    },
    {
      "cell_type": "code",
      "metadata": {
        "id": "2ilTPs2qNfuq"
      },
      "source": [
        "pip install scipy"
      ],
      "execution_count": null,
      "outputs": []
    },
    {
      "cell_type": "code",
      "metadata": {
        "id": "VqSmFk21NX1a"
      },
      "source": [
        "from scipy import *"
      ],
      "execution_count": null,
      "outputs": []
    },
    {
      "cell_type": "code",
      "metadata": {
        "colab": {
          "base_uri": "https://localhost:8080/"
        },
        "id": "bAsfGFOyNcFu",
        "outputId": "ffd1ef50-694d-4609-fd95-3caf090cb174"
      },
      "source": [
        "from scipy.optimize import linprog\n",
        "\n",
        "obj = [-40 ,-50]\n",
        "lhs_ineq = [[ 3, 4],[1, 1],[0, 1]]\n",
        "rhs_ineq = [180, 50, 40]\n",
        "bnd = [(0, float(\"inf\")), (0, float(\"inf\"))]\n",
        "opt = linprog(c=obj, A_ub=lhs_ineq, b_ub=rhs_ineq, bounds=bnd, method=\"revised simplex\")\n",
        "opt"
      ],
      "execution_count": 1,
      "outputs": [
        {
          "output_type": "execute_result",
          "data": {
            "text/plain": [
              "     con: array([], dtype=float64)\n",
              "     fun: -2300.0\n",
              " message: 'Optimization terminated successfully.'\n",
              "     nit: 3\n",
              "   slack: array([ 0.,  0., 10.])\n",
              "  status: 0\n",
              " success: True\n",
              "       x: array([20., 30.])"
            ]
          },
          "metadata": {},
          "execution_count": 1
        }
      ]
    },
    {
      "cell_type": "markdown",
      "metadata": {
        "id": "h-A4kGwPNsFE"
      },
      "source": [
        "Q2)\tOn October 1 a company received a contract to supply 6000 units of specialized product . the term of contract require that 1000 unit  be shipped in October , 3000 units in November and 2000 units in December . the company can manufacture 1500 units in a month on a regular time and 750 units per month in overtime. The manufacturing cost per item produced in regular time is Rs 3 and the cost per item produced during overtime is Rs 5.The monthly storage cost is Rs 1.Formulate this problem as LP model so as to minimize total cost"
      ]
    },
    {
      "cell_type": "code",
      "metadata": {
        "colab": {
          "base_uri": "https://localhost:8080/"
        },
        "id": "COqFsf4hNsTm",
        "outputId": "11bac3fe-e4fc-45dc-d213-3c5fc82e5218"
      },
      "source": [
        "obj = [5, 4, 3, 7, 6, 5, -5000]\n",
        "lhs_ineq = [[-1, 0, 0, -1, 0, 0, 0],[-1, -1, 0, -1, -1, 0, 0]]\n",
        "rhs_ineq = [-1000, -4000]\n",
        "lhs_eq = [[1, 1, 1, 1, 1, 1, 0],[0, 0, 0, 0, 0, 0, 1]]\n",
        "rhs_eq = [6000, 1]\n",
        "bnd = [(0, 1500), (0, 1500), (0, 1500), (0,750), (0,750), (0,750), (1,1)]\n",
        "opt = linprog(c=obj,A_eq=lhs_eq, b_eq=rhs_eq, A_ub=lhs_ineq, b_ub=rhs_ineq, bounds=bnd, method=\"revised simplex\")\n",
        "opt"
      ],
      "execution_count": 2,
      "outputs": [
        {
          "output_type": "execute_result",
          "data": {
            "text/plain": [
              "     con: array([0., 0.])\n",
              "     fun: 21750.0\n",
              " message: 'Optimization terminated successfully.'\n",
              "     nit: 7\n",
              "   slack: array([750.,   0.])\n",
              "  status: 0\n",
              " success: True\n",
              "       x: array([1.5e+03, 1.5e+03, 1.5e+03, 2.5e+02, 7.5e+02, 5.0e+02, 1.0e+00])"
            ]
          },
          "metadata": {},
          "execution_count": 2
        }
      ]
    },
    {
      "cell_type": "markdown",
      "metadata": {
        "id": "NknUn7GwNwp5"
      },
      "source": [
        "Q3)\tMaximize Z=4x1+3x2\n",
        "Subject to\n",
        "2x1+x2 ≤ 1000\n",
        "x1+x2 ≤ 800\n",
        "x1 ≤ 400\n",
        "x2 ≤ 700, x1,x2  ≥0\n",
        "\n"
      ]
    },
    {
      "cell_type": "code",
      "metadata": {
        "colab": {
          "base_uri": "https://localhost:8080/"
        },
        "id": "FpcDeGtBNtL-",
        "outputId": "75775298-3f99-4635-9101-604f8521d664"
      },
      "source": [
        "obj = [-4, -3]\n",
        "lhs_ineq = [[2, 1],[1, 1]]\n",
        "rhs_ineq = [1000, 800]\n",
        "bnd = [(0, 400), (0, 700)]\n",
        "opt = linprog(c=obj, A_ub=lhs_ineq, b_ub=rhs_ineq, bounds=bnd, method=\"revised simplex\")\n",
        "opt"
      ],
      "execution_count": 3,
      "outputs": [
        {
          "output_type": "execute_result",
          "data": {
            "text/plain": [
              "     con: array([], dtype=float64)\n",
              "     fun: -2600.0\n",
              " message: 'Optimization terminated successfully.'\n",
              "     nit: 3\n",
              "   slack: array([0., 0.])\n",
              "  status: 0\n",
              " success: True\n",
              "       x: array([200., 600.])"
            ]
          },
          "metadata": {},
          "execution_count": 3
        }
      ]
    }
  ]
}